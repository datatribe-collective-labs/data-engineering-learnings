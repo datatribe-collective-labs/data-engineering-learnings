{
 "cells": [
  {
   "cell_type": "markdown",
   "id": "4b5eb3c2-c8f2-44f2-a60b-c2c8da69cfa5",
   "metadata": {},
   "source": [
    "# Transform: Hourly Summary Table of NYC Taxi Trips - Data Transformation\n",
    "\n",
    "This notebook aggregates raw NYC Yellow Taxi data (January 2023 - March 2023) into a structured hourly summary table, which can be used for visualization and downstream analytics. DuckDB is used for efficient SQL-based transformation."
   ]
  },
  {
   "cell_type": "code",
   "execution_count": 27,
   "id": "f10c2bcc-5786-4a01-9a70-75e4a99a67d8",
   "metadata": {},
   "outputs": [],
   "source": [
    "# Imports and configuration\n",
    "import pandas as pd\n",
    "import duckdb\n",
    "from pathlib import Path\n",
    "from glob import glob\n",
    "\n",
    "# Paths\n",
    "PROJECT_ROOT = Path(\"..\")\n",
    "RAW_DATA_PATHS = sorted(glob(str(PROJECT_ROOT / \"airflow_pipeline\" / \"data\" / \"raw\" / \"yellow_tripdata_2023-0[1-3].parquet\")))\n",
    "\n",
    "OUTPUT_PATH = PROJECT_ROOT / \"airflow_pipeline\" / \"data\" / \"processed\" / \"trip_summary_hourly.csv\""
   ]
  },
  {
   "cell_type": "code",
   "execution_count": 28,
   "id": "63086d29-9e01-418c-8743-383ad860d491",
   "metadata": {},
   "outputs": [
    {
     "data": {
      "text/plain": [
       "<duckdb.duckdb.DuckDBPyConnection at 0x2988566b430>"
      ]
     },
     "execution_count": 28,
     "metadata": {},
     "output_type": "execute_result"
    }
   ],
   "source": [
    "# Connect to DuckDB and register the Parquet file as a virtual table\n",
    "con = duckdb.connect(database=\":memory:\")\n",
    "con.execute(f\"CREATE VIEW yellow_taxi AS SELECT * FROM read_parquet({RAW_DATA_PATHS})\")"
   ]
  },
  {
   "cell_type": "markdown",
   "id": "40fcb00f-1303-40e1-958d-2c53faea65b4",
   "metadata": {},
   "source": [
    "### Load and Execute SQL Query\n",
    "\n",
    "The transformation logic is stored in a separate `.sql` file for better readability and maintainability."
   ]
  },
  {
   "cell_type": "markdown",
   "id": "2f00ff49-6678-4c97-80c3-ece7438406cf",
   "metadata": {},
   "source": [
    "### SQL Transformation\n",
    "\n",
    "The query is stored externally in a `.sql` file for better maintainability. It generates a summary table with hourly-level metrics: trip count, average distance, total amount, and duration (in minutes)."
   ]
  },
  {
   "cell_type": "code",
   "execution_count": 29,
   "id": "1cb726ca-d9cc-4802-8f57-020baa935d81",
   "metadata": {},
   "outputs": [
    {
     "ename": "ParserException",
     "evalue": "Parser Error: syntax error at or near \"AVG\"",
     "output_type": "error",
     "traceback": [
      "\u001b[1;31m---------------------------------------------------------------------------\u001b[0m",
      "\u001b[1;31mParserException\u001b[0m                           Traceback (most recent call last)",
      "Cell \u001b[1;32mIn[29], line 7\u001b[0m\n\u001b[0;32m      4\u001b[0m     query \u001b[38;5;241m=\u001b[39m f\u001b[38;5;241m.\u001b[39mread()\n\u001b[0;32m      6\u001b[0m \u001b[38;5;66;03m# Execute query and load results\u001b[39;00m\n\u001b[1;32m----> 7\u001b[0m df_summary \u001b[38;5;241m=\u001b[39m \u001b[43mcon\u001b[49m\u001b[38;5;241;43m.\u001b[39;49m\u001b[43mexecute\u001b[49m\u001b[43m(\u001b[49m\u001b[43mquery\u001b[49m\u001b[43m)\u001b[49m\u001b[38;5;241m.\u001b[39mfetchdf()\n\u001b[0;32m      8\u001b[0m df_summary\u001b[38;5;241m.\u001b[39mhead()\n",
      "\u001b[1;31mParserException\u001b[0m: Parser Error: syntax error at or near \"AVG\""
     ]
    }
   ],
   "source": [
    "# Read SQL query from .sql file, query is loaded from external file for clarity\n",
    "query_path = PROJECT_ROOT / \"airflow_pipeline\" / \"sql\" / \"raw\" / \"trip_summary_hourly.sql\"\n",
    "with open(query_path) as f:\n",
    "    query = f.read()\n",
    "\n",
    "# Execute query and load results\n",
    "df_summary = con.execute(query).fetchdf()\n",
    "df_summary.head()"
   ]
  },
  {
   "cell_type": "markdown",
   "id": "2ed9d527-2409-4ebb-a3e7-43e12dd334b2",
   "metadata": {},
   "source": [
    "### Export\n",
    "\n",
    "The resulting summary is saved as a CSV file under the processed data folder."
   ]
  },
  {
   "cell_type": "code",
   "execution_count": null,
   "id": "5941a82f-3171-4b98-b011-eb8bd1f0c675",
   "metadata": {},
   "outputs": [
    {
     "name": "stdout",
     "output_type": "stream",
     "text": [
      "Summary table generated and saved: D:\\DataTribes-Four-Week-Learning\\data-engineering-learnings\\test222\\tuo-yang-nyc-taxi\\airflow_pipeline\\data\\processed\\trip_summary_hourly.csv\n"
     ]
    }
   ],
   "source": [
    "# Output the SQL querying results to csv files\n",
    "df_summary.to_csv(OUTPUT_PATH, index=False)\n",
    "\n",
    "print(\"Summary table generated and saved:\", OUTPUT_PATH.resolve())"
   ]
  },
  {
   "cell_type": "markdown",
   "id": "27af257a-2870-449c-b5e2-c45d0ef0a3b6",
   "metadata": {},
   "source": [
    "### Output Validation\n",
    "\n",
    "Basic checks to ensure the summary table has the expected structure and no missing values."
   ]
  },
  {
   "cell_type": "code",
   "execution_count": null,
   "id": "9d626805-ded6-4af1-b737-666b78bc1dd3",
   "metadata": {},
   "outputs": [
    {
     "name": "stdout",
     "output_type": "stream",
     "text": [
      "Row check: 2160 / 2160\n",
      "Missing values: 0\n",
      "Output shape and null check passed.\n"
     ]
    }
   ],
   "source": [
    "# Sanity checks\n",
    "expected_rows = 24 * 90\n",
    "actual_rows = len(df_summary)\n",
    "null_count = df_summary.isnull().sum().sum()\n",
    "\n",
    "print(f\"Row check: {actual_rows} / {expected_rows}\")\n",
    "print(f\"Missing values: {null_count}\")\n",
    "\n",
    "assert actual_rows == expected_rows # Excepting 2160 rows (hourly data for 90 days)\n",
    "assert null_count == 0              # No missing values\n",
    "print(\"Output shape and null check passed.\")"
   ]
  },
  {
   "cell_type": "markdown",
   "id": "9fa2475d-3fba-419e-8c41-5522d36033ec",
   "metadata": {},
   "source": [
    "### Summary\n",
    "\n",
    "Hourly-level statistics have been successfully computed and saved. The output summary table can be used as a backend for visualizing key metrics such as trip volume, distance, and fare patterns over time.\n",
    "\n",
    "Next step: build an interactive interface or dashboard to explore these trends more effectively — either within a web app (e.g., Streamlit) or using BI tools like Looker Studio."
   ]
  }
 ],
 "metadata": {
  "kernelspec": {
   "display_name": "nyc-taxi-de",
   "language": "python",
   "name": "python3"
  },
  "language_info": {
   "codemirror_mode": {
    "name": "ipython",
    "version": 3
   },
   "file_extension": ".py",
   "mimetype": "text/x-python",
   "name": "python",
   "nbconvert_exporter": "python",
   "pygments_lexer": "ipython3",
   "version": "3.10.16"
  }
 },
 "nbformat": 4,
 "nbformat_minor": 5
}
